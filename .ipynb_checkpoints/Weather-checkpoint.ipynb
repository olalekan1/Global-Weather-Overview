{
 "cells": [
  {
   "cell_type": "markdown",
   "id": "01e888e3",
   "metadata": {},
   "source": [
    "### Installation"
   ]
  },
  {
   "cell_type": "code",
   "execution_count": null,
   "id": "e973cd9c",
   "metadata": {},
   "outputs": [],
   "source": [
    "# pip install requests\n",
    "# pip install google-cloud-bigquery"
   ]
  },
  {
   "cell_type": "markdown",
   "id": "2827bdf1",
   "metadata": {},
   "source": [
    "### Import libraries"
   ]
  },
  {
   "cell_type": "code",
   "execution_count": 121,
   "id": "6b7ecabc",
   "metadata": {},
   "outputs": [],
   "source": [
    "import os\n",
    "import requests\n",
    "from google.cloud import bigquery\n",
    "import json"
   ]
  },
  {
   "cell_type": "markdown",
   "id": "bb67693b",
   "metadata": {},
   "source": [
    "### Variable"
   ]
  },
  {
   "cell_type": "code",
   "execution_count": 180,
   "id": "4ad43eed",
   "metadata": {},
   "outputs": [],
   "source": [
    "with open('important/appid.txt', 'r') as file:\n",
    "    appid = file.read()\n",
    "\n",
    "location = \"Gloucester,uk\"\n",
    "baseUrl = \"https://api.openweathermap.org/data/2.5/weather?\"\n",
    "# url = \"https://api.openweathermap.org/data/2.5/weather?q=\"+location+\"&appid=\"+appid"
   ]
  },
  {
   "cell_type": "markdown",
   "id": "96c1a047",
   "metadata": {},
   "source": [
    "### Methods"
   ]
  },
  {
   "cell_type": "code",
   "execution_count": 166,
   "id": "d9153f8c",
   "metadata": {},
   "outputs": [],
   "source": [
    "def weatherApi(baseUrl,location,appid):\n",
    "    api = baseUrl + \"q=\"+location +\"&appid=\"+appid\n",
    "    return api\n",
    "\n",
    "def getWeatherData(api):\n",
    "    response = requests.get(api)\n",
    "    if response.status_code == 200:\n",
    "        return response.json()\n",
    "    else:\n",
    "        return (\"Error: Unable to fetch data from the API\")\n",
    "\n",
    "def insertIntoBigQuery(service_account_path, dataset_id, table_id, data_to_insert):\n",
    "    client = bigquery.Client.from_service_account_json(service_account_path)\n",
    "    \n",
    "    table_ref = client.dataset(dataset_id).table(table_id)\n",
    "    errors = client.insert_rows_json(table_ref, data_to_insert)\n",
    "\n",
    "    if errors:\n",
    "        return \"Encountered errors while inserting data: {}\".format(errors)\n",
    "    else:\n",
    "        return \"Data inserted successfully into BigQuery table.\""
   ]
  },
  {
   "cell_type": "code",
   "execution_count": 185,
   "id": "d8e0d6ee",
   "metadata": {},
   "outputs": [],
   "source": [
    "url = weatherApi(baseUrl,location,appid)\n",
    "response = getWeatherData(url)"
   ]
  },
  {
   "cell_type": "code",
   "execution_count": 170,
   "id": "4d52b8cd",
   "metadata": {},
   "outputs": [],
   "source": [
    "dataset_id = 'weather'\n",
    "table_id = 'weather_info'\n",
    "service_account_path = 'important/service_account_key.json'\n",
    "data_to_insert = [{\"response\": json.dumps(response)}]"
   ]
  },
  {
   "cell_type": "code",
   "execution_count": 167,
   "id": "2c424bb0",
   "metadata": {},
   "outputs": [],
   "source": [
    "f = insertIntoBigQuery(service_account_path, dataset_id, table_id, data_to_insert)"
   ]
  },
  {
   "cell_type": "code",
   "execution_count": null,
   "id": "bcb0daa5",
   "metadata": {},
   "outputs": [],
   "source": [
    "/*WITH flattened_weather AS (\n",
    "  SELECT\n",
    "    weather.description AS description\n",
    "  FROM\n",
    "    `airflowdbt-396514.weather.weather_info`,\n",
    "    UNNEST(JSON_EXTRACT_ARRAY(response, '$.weather')) AS weather\n",
    ")\n",
    "\n",
    "SELECT\n",
    "  description\n",
    "FROM\n",
    "  flattened_weather\n",
    "WHERE\n",
    "  JSON_EXTRACT_SCALAR(response, '$.name') = 'Gloucester';\n",
    "*/\n",
    "\n",
    "SELECT JSON_EXTRACT(response, '$.weather') AS weather\n",
    "FROM `airflowdbt-396514.weather.weather_info`\n",
    "WHERE\n",
    "  JSON_EXTRACT_SCALAR(response, '$.name') = 'Gloucester';\n",
    "\n"
   ]
  }
 ],
 "metadata": {
  "kernelspec": {
   "display_name": "Python 3 (ipykernel)",
   "language": "python",
   "name": "python3"
  },
  "language_info": {
   "codemirror_mode": {
    "name": "ipython",
    "version": 3
   },
   "file_extension": ".py",
   "mimetype": "text/x-python",
   "name": "python",
   "nbconvert_exporter": "python",
   "pygments_lexer": "ipython3",
   "version": "3.11.4"
  }
 },
 "nbformat": 4,
 "nbformat_minor": 5
}
