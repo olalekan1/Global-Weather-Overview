{
 "cells": [
  {
   "cell_type": "markdown",
   "id": "3c57c179",
   "metadata": {},
   "source": [
    "### Installation"
   ]
  },
  {
   "cell_type": "code",
   "execution_count": null,
   "id": "be22ebd0",
   "metadata": {},
   "outputs": [],
   "source": [
    "# pip install requests\n",
    "# pip install google-cloud-bigquery"
   ]
  },
  {
   "cell_type": "markdown",
   "id": "df53df2f",
   "metadata": {},
   "source": [
    "### Import libraries"
   ]
  },
  {
   "cell_type": "code",
   "execution_count": 2,
   "id": "6b7ecabc",
   "metadata": {},
   "outputs": [],
   "source": [
    "import requests\n",
    "from google.cloud import bigquery\n",
    "import json\n",
    "import pandas as pd\n",
    "from datetime import datetime, timedelta"
   ]
  },
  {
   "cell_type": "markdown",
   "id": "6f1ae064",
   "metadata": {},
   "source": [
    "### Methods"
   ]
  },
  {
   "cell_type": "code",
   "execution_count": 69,
   "id": "980e3296",
   "metadata": {},
   "outputs": [],
   "source": [
    "def apiUrl(baseUrl,location,appid):\n",
    "    api = baseUrl + \"q=\"+location +\"&appid=\"+appid\n",
    "    return api\n",
    "\n",
    "def getWeatherData(api):\n",
    "    response = requests.get(api)\n",
    "    if response.status_code == 200:\n",
    "        return response.json()\n",
    "    else:\n",
    "        return (\"Error: Unable to fetch data from the API\")\n",
    "\n",
    "def insertIntoBigQuery(service_account_path, dataset_id, table_id, data_to_insert):\n",
    "    client = bigquery.Client.from_service_account_json(service_account_path)\n",
    "    \n",
    "    table_ref = client.dataset(dataset_id).table(table_id)\n",
    "    errors = client.insert_rows_json(table_ref, data_to_insert)\n",
    "\n",
    "    if errors:\n",
    "        return \"Encountered errors while inserting data: {}\".format(errors)\n",
    "    else:\n",
    "        return \"Data inserted successfully into BigQuery table.\"\n",
    "    \n",
    "def selectFromBigQuery(service_account_path, sql_query):\n",
    "    client = bigquery.Client.from_service_account_json(service_account_path)\n",
    "\n",
    "    # Execute the query and load results into a Pandas DataFrame\n",
    "    query_job = client.query(sql_query)\n",
    "    results = query_job.result()  # Waits for the query to complete\n",
    "    return results.to_dataframe()\n",
    "\n",
    "def sendMail(content, receiver):\n",
    "    pass"
   ]
  },
  {
   "cell_type": "markdown",
   "id": "3a583fae",
   "metadata": {},
   "source": [
    "### Variable"
   ]
  },
  {
   "cell_type": "code",
   "execution_count": 4,
   "id": "3136c5f0",
   "metadata": {},
   "outputs": [],
   "source": [
    "with open('important/credentials.txt', 'r') as file:\n",
    "    appid = file.readline().strip()\n",
    "    weatherTable = file.readline().strip()\n",
    "    dataset_id = file.readline().strip()\n",
    "    table_id = file.readline().strip()\n",
    "\n",
    "apiBaseUrl = \"https://api.openweathermap.org/data/2.5/\"\n",
    "service_account_path = 'important/service_account_key.json'"
   ]
  },
  {
   "cell_type": "markdown",
   "id": "e838dedc",
   "metadata": {},
   "source": [
    "### New Forecast json data\n",
    "##### Get Forecast data via API\n"
   ]
  },
  {
   "cell_type": "code",
   "execution_count": 7,
   "id": "7d0a82ea-3822-4070-91a5-09b6b3f3441c",
   "metadata": {},
   "outputs": [],
   "source": [
    "location = \"Gloucester\"\n",
    "forecastBaseUrl = apiBaseUrl + \"forecast?\"\n",
    "url = apiUrl(forecastBaseUrl,location,appid)\n",
    "forecastResponse = getWeatherData(url)\n",
    "# print(forecastResponse)"
   ]
  },
  {
   "cell_type": "markdown",
   "id": "ae141275",
   "metadata": {},
   "source": [
    "### New weather json data"
   ]
  },
  {
   "cell_type": "code",
   "execution_count": 19,
   "id": "3e5e8440",
   "metadata": {},
   "outputs": [
    {
     "name": "stdout",
     "output_type": "stream",
     "text": [
      "1706466600\n",
      "1706466039\n"
     ]
    }
   ],
   "source": [
    "weatherBaseUrl = apiBaseUrl + \"weather?\"\n",
    "\n",
    "locations = [\"Gloucester\", \"London\"]\n",
    "for location in locations:\n",
    "    url = apiUrl(weatherBaseUrl,location,appid)\n",
    "    weatherResponse = getWeatherData(url)\n",
    "    \n",
    "    # If there is error in the api, the response will be a string else, a json\n",
    "    if type(weatherResponse).__name__ == \"str\":\n",
    "        print(\"Location:\", location, \"|\", \"Message:\", weatherResponse)\n",
    "    else:\n",
    "        \n",
    "        # ------------------------------------------\n",
    "        # Insert raw weather json data\n",
    "        # ------------------------------------------\n",
    "        \n",
    "        \n",
    "        # To ensure that the data is not a duplicate\n",
    "        utc_datetime = datetime.utcfromtimestamp(weatherResponse['dt'])\n",
    "        formatted_utc_datetime = utc_datetime.strftime('%Y-%m-%d %H:%M:%S')\n",
    "        sql_query = f\"\"\"\n",
    "            SELECT *\n",
    "            FROM `{weatherTable}`\n",
    "            WHERE\n",
    "                timestampUTC = '{formatted_utc_datetime}' AND location = '{weatherResponse['name']}'\n",
    "            \"\"\"\n",
    "        df = selectFromBigQuery(service_account_path, sql_query)\n",
    "\n",
    "        # To insert the data\n",
    "        result = \"\"\n",
    "        if len(df) == 0:\n",
    "            data_to_insert = [{\"response\": json.dumps(weatherResponse)}]\n",
    "            result = insertIntoBigQuery(service_account_path, dataset_id, table_id, data_to_insert)\n",
    "        else:\n",
    "            result = f\"Error: Data already inserted for {location} at this timestamp\"\n",
    "        print(result)\n",
    "        print(weatherResponse['dt'])"
   ]
  },
  {
   "cell_type": "code",
   "execution_count": 91,
   "id": "c8974dff-a5df-4e8f-b2a5-11956225d31e",
   "metadata": {
    "scrolled": true
   },
   "outputs": [
    {
     "name": "stdout",
     "output_type": "stream",
     "text": [
      "Afghanistan (Kabul) | Time: 1706480414\n",
      "Albania (Tirana) | Time: 1706480340\n"
     ]
    },
    {
     "data": {
      "text/html": [
       "<div>\n",
       "<style scoped>\n",
       "    .dataframe tbody tr th:only-of-type {\n",
       "        vertical-align: middle;\n",
       "    }\n",
       "\n",
       "    .dataframe tbody tr th {\n",
       "        vertical-align: top;\n",
       "    }\n",
       "\n",
       "    .dataframe thead th {\n",
       "        text-align: right;\n",
       "    }\n",
       "</style>\n",
       "<table border=\"1\" class=\"dataframe\">\n",
       "  <thead>\n",
       "    <tr style=\"text-align: right;\">\n",
       "      <th></th>\n",
       "      <th>coord</th>\n",
       "      <th>weather</th>\n",
       "      <th>base</th>\n",
       "      <th>main</th>\n",
       "      <th>visibility</th>\n",
       "      <th>wind</th>\n",
       "      <th>snow</th>\n",
       "      <th>clouds</th>\n",
       "      <th>dt</th>\n",
       "      <th>sys</th>\n",
       "      <th>timezone</th>\n",
       "      <th>id</th>\n",
       "      <th>name</th>\n",
       "      <th>cod</th>\n",
       "    </tr>\n",
       "  </thead>\n",
       "  <tbody>\n",
       "    <tr>\n",
       "      <th>0</th>\n",
       "      <td>{'lon': 69.4167, 'lat': 34.5}</td>\n",
       "      <td>[{'id': 600, 'main': 'Snow', 'description': 'l...</td>\n",
       "      <td>stations</td>\n",
       "      <td>{'temp': 274.51, 'feels_like': 274.51, 'temp_m...</td>\n",
       "      <td>27</td>\n",
       "      <td>{'speed': 0.93, 'deg': 60, 'gust': 1.2}</td>\n",
       "      <td>{'1h': 0.27}</td>\n",
       "      <td>{'all': 100}</td>\n",
       "      <td>1706480414</td>\n",
       "      <td>{'country': 'AF', 'sunrise': 1706494973, 'suns...</td>\n",
       "      <td>16200</td>\n",
       "      <td>1138957</td>\n",
       "      <td>Kabul</td>\n",
       "      <td>200</td>\n",
       "    </tr>\n",
       "    <tr>\n",
       "      <th>1</th>\n",
       "      <td>{'lon': 19.8189, 'lat': 41.3275}</td>\n",
       "      <td>[{'id': 801, 'main': 'Clouds', 'description': ...</td>\n",
       "      <td>stations</td>\n",
       "      <td>{'temp': 274.64, 'feels_like': 274.64, 'temp_m...</td>\n",
       "      <td>10000</td>\n",
       "      <td>{'speed': 1.03, 'deg': 0}</td>\n",
       "      <td>NaN</td>\n",
       "      <td>{'all': 20}</td>\n",
       "      <td>1706480340</td>\n",
       "      <td>{'type': 1, 'id': 6359, 'country': 'AL', 'sunr...</td>\n",
       "      <td>3600</td>\n",
       "      <td>3183875</td>\n",
       "      <td>Tirana</td>\n",
       "      <td>200</td>\n",
       "    </tr>\n",
       "  </tbody>\n",
       "</table>\n",
       "</div>"
      ],
      "text/plain": [
       "                              coord  \\\n",
       "0     {'lon': 69.4167, 'lat': 34.5}   \n",
       "1  {'lon': 19.8189, 'lat': 41.3275}   \n",
       "\n",
       "                                             weather      base  \\\n",
       "0  [{'id': 600, 'main': 'Snow', 'description': 'l...  stations   \n",
       "1  [{'id': 801, 'main': 'Clouds', 'description': ...  stations   \n",
       "\n",
       "                                                main  visibility  \\\n",
       "0  {'temp': 274.51, 'feels_like': 274.51, 'temp_m...          27   \n",
       "1  {'temp': 274.64, 'feels_like': 274.64, 'temp_m...       10000   \n",
       "\n",
       "                                      wind          snow        clouds  \\\n",
       "0  {'speed': 0.93, 'deg': 60, 'gust': 1.2}  {'1h': 0.27}  {'all': 100}   \n",
       "1                {'speed': 1.03, 'deg': 0}           NaN   {'all': 20}   \n",
       "\n",
       "           dt                                                sys  timezone  \\\n",
       "0  1706480414  {'country': 'AF', 'sunrise': 1706494973, 'suns...     16200   \n",
       "1  1706480340  {'type': 1, 'id': 6359, 'country': 'AL', 'sunr...      3600   \n",
       "\n",
       "        id    name  cod  \n",
       "0  1138957   Kabul  200  \n",
       "1  3183875  Tirana  200  "
      ]
     },
     "execution_count": 91,
     "metadata": {},
     "output_type": "execute_result"
    }
   ],
   "source": [
    "weatherBaseUrl = apiBaseUrl + \"weather?\"\n",
    "countries = pd.read_csv(\"countries.csv\")\n",
    "# capital_list = countries['Capital'].tolist()\n",
    "# countries_capital_list = list(zip(countries['Country'].tolist(), countries['Capital'].tolist()))\n",
    "\n",
    "list_of_dicts=[]\n",
    "for index, row in countries.iterrows():\n",
    "    if index == 2:\n",
    "        break\n",
    "    country = row['Country']\n",
    "    capital = row['Capital']\n",
    "    url = apiUrl(weatherBaseUrl,capital,appid)\n",
    "    weatherResponse = getWeatherData(url)\n",
    "    \n",
    "    list_of_dicts.append(weatherResponse)\n",
    "\n",
    "    # If there is error in the api, the response will be a string else, a json\n",
    "    if type(weatherResponse).__name__ == \"str\":\n",
    "        print (f\"{country} ({capital}) | Error: {weatherResponse}\")\n",
    "    else:\n",
    "        print(f\"{country} ({capital}) | Time: {weatherResponse['dt']}\")\n",
    "\n",
    "# Save the updated list of dictionaries to a JSON file\n",
    "output_file_path = 'merged_output.json'\n",
    "with open(output_file_path, 'w') as output_file:\n",
    "    json.dump(list_of_dicts, output_file, indent=2)\n",
    "\n",
    "# Read the JSON file into a DataFrame\n",
    "df = pd.read_json('merged_output.json')\n",
    "\n",
    "# Display the updated DataFrame\n",
    "df.head()"
   ]
  },
  {
   "cell_type": "code",
   "execution_count": 141,
   "id": "287637f2-53d7-450f-839e-94b0739cc7de",
   "metadata": {},
   "outputs": [],
   "source": [
    "weatherBaseUrl = apiBaseUrl + \"weather?\"\n",
    "countries = pd.read_csv(\"countries.csv\")\n",
    "\n",
    "all_weather=[]\n",
    "bad_api=[]\n",
    "for index, row in countries.iterrows():\n",
    "    if index == 2:\n",
    "        break\n",
    "    country = row['Country']\n",
    "    capital = row['Capital']\n",
    "    url = apiUrl(weatherBaseUrl,capital,appid)\n",
    "    weatherResponse = getWeatherData(url)  \n",
    "    \n",
    "    # If there is error in the api, the response will be a string else, a json\n",
    "    if type(weatherResponse).__name__ == \"str\":\n",
    "        bad_api.append(f\"{country} ({capital}) | Error: {weatherResponse}\")        \n",
    "    else:\n",
    "        row = f'''{{\n",
    "                \"lon\": \"{weatherResponse['coord']['lon']}\",\n",
    "                \"lat\": \"{weatherResponse['coord']['lat']}\",\n",
    "                \"main\": \"{weatherResponse['weather'][0]['main']}\",\n",
    "                \"description\": \"{weatherResponse['weather'][0]['description']}\",\n",
    "                \"icon\": \"{weatherResponse['weather'][0]['icon']}\",\n",
    "                \"base\": \"{weatherResponse['base']}\",\n",
    "                \"temp\": \"{weatherResponse['main']['temp']}\",                \n",
    "                \"feels_like\": \"{weatherResponse['main']['feels_like']}\",                \n",
    "                \"temp_min\": \"{weatherResponse['main']['temp_min']}\",                \n",
    "                \"temp_max\": \"{weatherResponse['main']['temp_max']}\",                \n",
    "                \"pressure\": \"{weatherResponse['main']['pressure']}\",                \n",
    "                \"humidity\": \"{weatherResponse['main']['humidity']}\",\n",
    "                \"visibility\": \"{weatherResponse['visibility']}\",\n",
    "                \"wind_speed\": \"{weatherResponse['wind']['speed']}\",\n",
    "                \"wind_deg\": \"{weatherResponse['wind']['deg']}\",\n",
    "                \"clouds\": \"{weatherResponse['clouds']['all']}\",\n",
    "                \"dt\": \"{weatherResponse['dt']}\",\n",
    "                \"sys_country_code\": \"{weatherResponse['sys']['country']}\",\n",
    "                \"sys_sunrise\": \"{weatherResponse['sys']['sunrise']}\",\n",
    "                \"sys_sunset\": \"{weatherResponse['sys']['sunset']}\",\n",
    "                \"timezone\": \"{weatherResponse['timezone']}\",\n",
    "                \"id\": \"{weatherResponse['id']}\",\n",
    "                \"location\": \"{weatherResponse['name']}\"\n",
    "                }}'''\n",
    "        row = json.loads(row)\n",
    "        all_weather.append(row)\n",
    "\n",
    "# Create dataframe from the JSON file\n",
    "df = pd.DataFrame(all_weather)\n",
    "df.head()\n",
    "\n",
    "csv_file_path = 'weatherData.csv'\n",
    "df.to_csv(csv_file_path, index=False)"
   ]
  },
  {
   "cell_type": "markdown",
   "id": "715e83f9",
   "metadata": {},
   "source": [
    "### Generate email content"
   ]
  },
  {
   "cell_type": "code",
   "execution_count": 8,
   "id": "70018b81",
   "metadata": {},
   "outputs": [
    {
     "ename": "ValueError",
     "evalue": "Please install the 'db-dtypes' package to use this function.",
     "output_type": "error",
     "traceback": [
      "\u001b[1;31m---------------------------------------------------------------------------\u001b[0m",
      "\u001b[1;31mModuleNotFoundError\u001b[0m                       Traceback (most recent call last)",
      "File \u001b[1;32m~\\AppData\\Roaming\\Python\\Python312\\site-packages\\google\\cloud\\bigquery\\_pandas_helpers.py:42\u001b[0m\n\u001b[0;32m     41\u001b[0m \u001b[38;5;28;01mtry\u001b[39;00m:\n\u001b[1;32m---> 42\u001b[0m     \u001b[38;5;28;01mimport\u001b[39;00m \u001b[38;5;21;01mdb_dtypes\u001b[39;00m  \u001b[38;5;66;03m# type: ignore\u001b[39;00m\n\u001b[0;32m     44\u001b[0m     date_dtype_name \u001b[38;5;241m=\u001b[39m db_dtypes\u001b[38;5;241m.\u001b[39mDateDtype\u001b[38;5;241m.\u001b[39mname\n",
      "\u001b[1;31mModuleNotFoundError\u001b[0m: No module named 'db_dtypes'",
      "\nThe above exception was the direct cause of the following exception:\n",
      "\u001b[1;31mValueError\u001b[0m                                Traceback (most recent call last)",
      "Cell \u001b[1;32mIn[8], line 23\u001b[0m\n\u001b[0;32m      9\u001b[0m current_datetime \u001b[38;5;241m=\u001b[39m current_datetime \u001b[38;5;241m+\u001b[39m timedelta(seconds\u001b[38;5;241m=\u001b[39m\u001b[38;5;241m-\u001b[39m\u001b[38;5;241m3600\u001b[39m)\n\u001b[0;32m     10\u001b[0m sql_query \u001b[38;5;241m=\u001b[39m \u001b[38;5;124mf\u001b[39m\u001b[38;5;124m\"\"\"\u001b[39m\n\u001b[0;32m     11\u001b[0m \u001b[38;5;124m    SELECT t1.*\u001b[39m\n\u001b[0;32m     12\u001b[0m \u001b[38;5;124m    FROM `\u001b[39m\u001b[38;5;132;01m{\u001b[39;00mweatherTable\u001b[38;5;132;01m}\u001b[39;00m\u001b[38;5;124m` t1\u001b[39m\n\u001b[1;32m   (...)\u001b[0m\n\u001b[0;32m     21\u001b[0m \u001b[38;5;124m    ORDER BY timestampUTC DESC\u001b[39m\n\u001b[0;32m     22\u001b[0m \u001b[38;5;124m    \u001b[39m\u001b[38;5;124m\"\"\"\u001b[39m\n\u001b[1;32m---> 23\u001b[0m df \u001b[38;5;241m=\u001b[39m \u001b[43mselectFromBigQuery\u001b[49m\u001b[43m(\u001b[49m\u001b[43mservice_account_path\u001b[49m\u001b[43m,\u001b[49m\u001b[43m \u001b[49m\u001b[43msql_query\u001b[49m\u001b[43m)\u001b[49m\n\u001b[0;32m     24\u001b[0m \u001b[38;5;28mprint\u001b[39m(df)\n",
      "Cell \u001b[1;32mIn[4], line 29\u001b[0m, in \u001b[0;36mselectFromBigQuery\u001b[1;34m(service_account_path, sql_query)\u001b[0m\n\u001b[0;32m     27\u001b[0m query_job \u001b[38;5;241m=\u001b[39m client\u001b[38;5;241m.\u001b[39mquery(sql_query)\n\u001b[0;32m     28\u001b[0m results \u001b[38;5;241m=\u001b[39m query_job\u001b[38;5;241m.\u001b[39mresult()  \u001b[38;5;66;03m# Waits for the query to complete\u001b[39;00m\n\u001b[1;32m---> 29\u001b[0m \u001b[38;5;28;01mreturn\u001b[39;00m \u001b[43mresults\u001b[49m\u001b[38;5;241;43m.\u001b[39;49m\u001b[43mto_dataframe\u001b[49m\u001b[43m(\u001b[49m\u001b[43m)\u001b[49m\n",
      "File \u001b[1;32m~\\AppData\\Roaming\\Python\\Python312\\site-packages\\google\\cloud\\bigquery\\table.py:2204\u001b[0m, in \u001b[0;36mRowIterator.to_dataframe\u001b[1;34m(self, bqstorage_client, dtypes, progress_bar_type, create_bqstorage_client, geography_as_object, bool_dtype, int_dtype, float_dtype, string_dtype, date_dtype, datetime_dtype, time_dtype, timestamp_dtype)\u001b[0m\n\u001b[0;32m   2033\u001b[0m \u001b[38;5;28;01mdef\u001b[39;00m \u001b[38;5;21mto_dataframe\u001b[39m(\n\u001b[0;32m   2034\u001b[0m     \u001b[38;5;28mself\u001b[39m,\n\u001b[0;32m   2035\u001b[0m     bqstorage_client: Optional[\u001b[38;5;124m\"\u001b[39m\u001b[38;5;124mbigquery_storage.BigQueryReadClient\u001b[39m\u001b[38;5;124m\"\u001b[39m] \u001b[38;5;241m=\u001b[39m \u001b[38;5;28;01mNone\u001b[39;00m,\n\u001b[1;32m   (...)\u001b[0m\n\u001b[0;32m   2047\u001b[0m     timestamp_dtype: Union[Any, \u001b[38;5;28;01mNone\u001b[39;00m] \u001b[38;5;241m=\u001b[39m \u001b[38;5;28;01mNone\u001b[39;00m,\n\u001b[0;32m   2048\u001b[0m ) \u001b[38;5;241m-\u001b[39m\u001b[38;5;241m>\u001b[39m \u001b[38;5;124m\"\u001b[39m\u001b[38;5;124mpandas.DataFrame\u001b[39m\u001b[38;5;124m\"\u001b[39m:\n\u001b[0;32m   2049\u001b[0m \u001b[38;5;250m    \u001b[39m\u001b[38;5;124;03m\"\"\"Create a pandas DataFrame by loading all pages of a query.\u001b[39;00m\n\u001b[0;32m   2050\u001b[0m \n\u001b[0;32m   2051\u001b[0m \u001b[38;5;124;03m    Args:\u001b[39;00m\n\u001b[1;32m   (...)\u001b[0m\n\u001b[0;32m   2202\u001b[0m \n\u001b[0;32m   2203\u001b[0m \u001b[38;5;124;03m    \"\"\"\u001b[39;00m\n\u001b[1;32m-> 2204\u001b[0m     \u001b[43m_pandas_helpers\u001b[49m\u001b[38;5;241;43m.\u001b[39;49m\u001b[43mverify_pandas_imports\u001b[49m\u001b[43m(\u001b[49m\u001b[43m)\u001b[49m\n\u001b[0;32m   2206\u001b[0m     \u001b[38;5;28;01mif\u001b[39;00m geography_as_object \u001b[38;5;129;01mand\u001b[39;00m shapely \u001b[38;5;129;01mis\u001b[39;00m \u001b[38;5;28;01mNone\u001b[39;00m:\n\u001b[0;32m   2207\u001b[0m         \u001b[38;5;28;01mraise\u001b[39;00m \u001b[38;5;167;01mValueError\u001b[39;00m(_NO_SHAPELY_ERROR)\n",
      "File \u001b[1;32m~\\AppData\\Roaming\\Python\\Python312\\site-packages\\google\\cloud\\bigquery\\_pandas_helpers.py:970\u001b[0m, in \u001b[0;36mverify_pandas_imports\u001b[1;34m()\u001b[0m\n\u001b[0;32m    968\u001b[0m     \u001b[38;5;28;01mraise\u001b[39;00m \u001b[38;5;167;01mValueError\u001b[39;00m(_NO_PANDAS_ERROR) \u001b[38;5;28;01mfrom\u001b[39;00m \u001b[38;5;21;01mpandas_import_exception\u001b[39;00m\n\u001b[0;32m    969\u001b[0m \u001b[38;5;28;01mif\u001b[39;00m db_dtypes \u001b[38;5;129;01mis\u001b[39;00m \u001b[38;5;28;01mNone\u001b[39;00m:\n\u001b[1;32m--> 970\u001b[0m     \u001b[38;5;28;01mraise\u001b[39;00m \u001b[38;5;167;01mValueError\u001b[39;00m(_NO_DB_TYPES_ERROR) \u001b[38;5;28;01mfrom\u001b[39;00m \u001b[38;5;21;01mdb_dtypes_import_exception\u001b[39;00m\n",
      "\u001b[1;31mValueError\u001b[0m: Please install the 'db-dtypes' package to use this function."
     ]
    }
   ],
   "source": [
    "location = \"Gloucester\"\n",
    "\n",
    "# Get latest weather info for the current hour\n",
    "current_datetime = datetime.now()\n",
    "current_datetime = current_datetime.strftime(\"%Y-%m-%d %H:00:00\")\n",
    "current_datetime = datetime.strptime(current_datetime, \"%Y-%m-%d %H:%M:%S\")\n",
    "\n",
    "# Converting to UTC timezone as UK is currently in UTC +1\n",
    "current_datetime = current_datetime + timedelta(seconds=-3600)\n",
    "sql_query = f\"\"\"\n",
    "    SELECT t1.*\n",
    "    FROM `{weatherTable}` t1\n",
    "    JOIN (\n",
    "            SELECT location, MAX(timestampUTC) AS timestampUTC\n",
    "            FROM `{weatherTable}`\n",
    "            WHERE\n",
    "                timestampUTC >= '{current_datetime}'\n",
    "            GROUP BY location\n",
    "        ) t2\n",
    "    ON t1.location = t2.location AND t1.timestampUTC = t2.timestampUTC \n",
    "    ORDER BY timestampUTC DESC\n",
    "    \"\"\"\n",
    "df = selectFromBigQuery(service_account_path, sql_query)\n",
    "print(df)"
   ]
  },
  {
   "cell_type": "code",
   "execution_count": null,
   "id": "b5fd2e34",
   "metadata": {},
   "outputs": [],
   "source": [
    "sql_query = f\"\"\"\n",
    "    SELECT *\n",
    "    FROM `{weatherTable}`\n",
    "    ORDER BY timestampUTC DESC LIMIT 20\n",
    "    \"\"\"\n",
    "df = selectFromBigQuery(service_account_path, sql_query)\n",
    "print(df)"
   ]
  },
  {
   "cell_type": "code",
   "execution_count": null,
   "id": "3d25d89a",
   "metadata": {},
   "outputs": [],
   "source": [
    "Date, location, temp temp_min temp_max feels_like pressure humidity wind_speed wind_deg weather_main weather_description\n",
    "\n",
    "emailSubject = \"Today's weather summary\"\n",
    "emailContent = f\"\"\"\n",
    "Today in {location} at {timestampUTC}.\n",
    "Weather: <font size=16><b>{weather_main}</b></font> \\n\n",
    "    <font size=12>{weather_description}</font>\"\"\""
   ]
  },
  {
   "cell_type": "code",
   "execution_count": null,
   "id": "f6117446",
   "metadata": {},
   "outputs": [],
   "source": [
    "unix_timestamp = 1697835600\n",
    "utc_datetime = datetime.utcfromtimestamp(unix_timestamp)\n",
    "year = utc_datetime.year\n",
    "month = utc_datetime.month\n",
    "day = utc_datetime.day\n",
    "hour = utc_datetime.hour\n",
    "minute = utc_datetime.minute\n",
    "second = utc_datetime.second\n",
    "\n",
    "formatted_datetime = utc_datetime.strftime('%A %d %b, %Y %H:%M:%S %Z')\n",
    "print(f\"{year}, {month}, {day}, {hour}, {minute}, {second}\")\n",
    "print(formatted_datetime)"
   ]
  },
  {
   "cell_type": "code",
   "execution_count": null,
   "id": "4fdbfd8d",
   "metadata": {},
   "outputs": [],
   "source": []
  }
 ],
 "metadata": {
  "kernelspec": {
   "display_name": "Python 3 (ipykernel)",
   "language": "python",
   "name": "python3"
  },
  "language_info": {
   "codemirror_mode": {
    "name": "ipython",
    "version": 3
   },
   "file_extension": ".py",
   "mimetype": "text/x-python",
   "name": "python",
   "nbconvert_exporter": "python",
   "pygments_lexer": "ipython3",
   "version": "3.12.1"
  },
  "widgets": {
   "application/vnd.jupyter.widget-state+json": {
    "state": {},
    "version_major": 2,
    "version_minor": 0
   }
  }
 },
 "nbformat": 4,
 "nbformat_minor": 5
}
