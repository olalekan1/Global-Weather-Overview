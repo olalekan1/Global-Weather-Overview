{
 "cells": [
  {
   "cell_type": "markdown",
   "id": "8c058d2d",
   "metadata": {},
   "source": [
    "### Installation"
   ]
  },
  {
   "cell_type": "code",
   "execution_count": null,
   "id": "fe054ec7",
   "metadata": {},
   "outputs": [],
   "source": [
    "# pip install requests\n",
    "# pip install google-cloud-bigquery"
   ]
  },
  {
   "cell_type": "markdown",
   "id": "a4f4b238",
   "metadata": {},
   "source": [
    "### Import libraries"
   ]
  },
  {
   "cell_type": "code",
   "execution_count": 121,
   "id": "6b7ecabc",
   "metadata": {},
   "outputs": [],
   "source": [
    "import os\n",
    "import requests\n",
    "from google.cloud import bigquery\n",
    "import json"
   ]
  },
  {
   "cell_type": "markdown",
   "id": "6bd35340",
   "metadata": {},
   "source": [
    "### Variable"
   ]
  },
  {
   "cell_type": "code",
   "execution_count": 40,
   "id": "c7abe4aa",
   "metadata": {},
   "outputs": [],
   "source": [
    "appid=\"058ab6bc5fc55a25cd2e31fcd0cc956f\"\n",
    "location = \"Gloucester,uk\"\n",
    "baseUrl = \"https://api.openweathermap.org/data/2.5/weather?\"\n",
    "# url = \"https://api.openweathermap.org/data/2.5/weather?q=\"+location+\"&appid=\"+appid"
   ]
  },
  {
   "cell_type": "markdown",
   "id": "3ba460a8",
   "metadata": {},
   "source": [
    "### Methods"
   ]
  },
  {
   "cell_type": "code",
   "execution_count": 166,
   "id": "b0eef8d3",
   "metadata": {},
   "outputs": [],
   "source": [
    "def weatherApi(baseUrl,location,appid):\n",
    "    api = baseUrl + \"q=\"+location +\"&appid=\"+appid\n",
    "    return api\n",
    "\n",
    "def getWeatherData(api):\n",
    "    response = requests.get(api)\n",
    "    if response.status_code == 200:\n",
    "        return response.json()\n",
    "    else:\n",
    "        return (\"Error: Unable to fetch data from the API\")\n",
    "\n",
    "def insertIntoBigQuery(service_account_path, dataset_id, table_id, data_to_insert):\n",
    "    client = bigquery.Client.from_service_account_json(service_account_path)\n",
    "    \n",
    "    table_ref = client.dataset(dataset_id).table(table_id)\n",
    "    errors = client.insert_rows_json(table_ref, data_to_insert)\n",
    "\n",
    "    if errors:\n",
    "        return \"Encountered errors while inserting data: {}\".format(errors)\n",
    "    else:\n",
    "        return \"Data inserted successfully into BigQuery table.\""
   ]
  },
  {
   "cell_type": "code",
   "execution_count": 169,
   "id": "7701253a",
   "metadata": {},
   "outputs": [],
   "source": [
    "url = weatherApi(baseUrl,location,appid)\n",
    "response = getWeatherData(url)"
   ]
  },
  {
   "cell_type": "code",
   "execution_count": 170,
   "id": "e200b7f6",
   "metadata": {},
   "outputs": [],
   "source": [
    "dataset_id = 'weather'\n",
    "table_id = 'weather_info'\n",
    "service_account_path = 'important/service_account_key.json'\n",
    "data_to_insert = [{\"response\": json.dumps(response)}]"
   ]
  },
  {
   "cell_type": "code",
   "execution_count": 167,
   "id": "5b49e3a8",
   "metadata": {},
   "outputs": [],
   "source": [
    "f = insertIntoBigQuery(service_account_path, dataset_id, table_id, data_to_insert)"
   ]
  },
  {
   "cell_type": "code",
   "execution_count": 168,
   "id": "9ef58224",
   "metadata": {},
   "outputs": [
    {
     "name": "stdout",
     "output_type": "stream",
     "text": [
      "Data inserted successfully into BigQuery table.\n"
     ]
    }
   ],
   "source": [
    "print(f)"
   ]
  },
  {
   "cell_type": "code",
   "execution_count": null,
   "id": "55eda9aa",
   "metadata": {},
   "outputs": [],
   "source": []
  }
 ],
 "metadata": {
  "kernelspec": {
   "display_name": "Python 3 (ipykernel)",
   "language": "python",
   "name": "python3"
  },
  "language_info": {
   "codemirror_mode": {
    "name": "ipython",
    "version": 3
   },
   "file_extension": ".py",
   "mimetype": "text/x-python",
   "name": "python",
   "nbconvert_exporter": "python",
   "pygments_lexer": "ipython3",
   "version": "3.11.4"
  }
 },
 "nbformat": 4,
 "nbformat_minor": 5
}
